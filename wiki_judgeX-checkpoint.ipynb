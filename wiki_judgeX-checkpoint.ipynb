{
 "cells": [
  {
   "cell_type": "code",
   "execution_count": 1,
   "id": "96e77a83",
   "metadata": {},
   "outputs": [],
   "source": [
    "#Import the right package\n",
    "from scipy.io import loadmat"
   ]
  },
  {
   "cell_type": "code",
   "execution_count": 2,
   "id": "aea16cc0",
   "metadata": {},
   "outputs": [],
   "source": [
    "#Load the data\n",
    "metaData = loadmat(\"wiki_judgeX.mat\",squeeze_me=True, struct_as_record=True)"
   ]
  },
  {
   "cell_type": "code",
   "execution_count": 3,
   "id": "012f6ae3",
   "metadata": {},
   "outputs": [
    {
     "data": {
      "text/plain": [
       "{'__header__': b'MATLAB 5.0 MAT-file, Platform: GLNXA64, Created on: Sat Feb 23 12:09:47 2019',\n",
       " '__version__': '1.0',\n",
       " '__globals__': [],\n",
       " 'wiki_judgeX': array((array(['1.png', '2.png', '3.png', ..., '1999.png', '2000.png', '2001.png'],\n",
       "       dtype=object), array([1., 1., 1., ..., 1., 1., 1.]), array([2.6456395 ,       -inf, 5.47180121, ..., 3.24572625, 1.77799863,\n",
       "        4.35951262]), array([1.94924791,        nan,        nan, ...,        nan,        nan,\n",
       "               nan]), array([   1,    2,    3, ..., 1999, 2000, 2001], dtype=uint16)),\n",
       "       dtype=[('full_path', 'O'), ('gender', 'O'), ('face_score', 'O'), ('second_face_score', 'O'), ('ID', 'O')])}"
      ]
     },
     "execution_count": 3,
     "metadata": {},
     "output_type": "execute_result"
    }
   ],
   "source": [
    "#Here is the entire matlab structure data\n",
    "metaData"
   ]
  },
  {
   "cell_type": "code",
   "execution_count": null,
   "id": "db171bd1",
   "metadata": {},
   "outputs": [],
   "source": []
  },
  {
   "cell_type": "code",
   "execution_count": null,
   "id": "0bdeb219",
   "metadata": {},
   "outputs": [],
   "source": []
  }
 ],
 "metadata": {
  "kernelspec": {
   "display_name": "Python 3",
   "language": "python",
   "name": "python3"
  },
  "language_info": {
   "codemirror_mode": {
    "name": "ipython",
    "version": 3
   },
   "file_extension": ".py",
   "mimetype": "text/x-python",
   "name": "python",
   "nbconvert_exporter": "python",
   "pygments_lexer": "ipython3",
   "version": "3.8.8"
  }
 },
 "nbformat": 4,
 "nbformat_minor": 5
}
