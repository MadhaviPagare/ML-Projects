{
 "cells": [
  {
   "cell_type": "code",
   "execution_count": 1,
   "metadata": {},
   "outputs": [],
   "source": [
    "#Import the right package\n",
    "from scipy.io import loadmat"
   ]
  },
  {
   "cell_type": "code",
   "execution_count": 2,
   "metadata": {},
   "outputs": [],
   "source": [
    "#Load the data\n",
    "metaData = loadmat(\"wiki_labeled.mat\",squeeze_me=True, struct_as_record=True)"
   ]
  },
  {
   "cell_type": "code",
   "execution_count": 3,
   "metadata": {
    "scrolled": true
   },
   "outputs": [
    {
     "data": {
      "text/plain": [
       "{'__globals__': [],\n",
       " '__header__': b'MATLAB 5.0 MAT-file, Platform: GLNXA64, Created on: Sat Feb 23 11:49:16 2019',\n",
       " '__version__': '1.0',\n",
       " 'wiki_labeled': array((array([723671, 711677, 705061, ..., 720620, 723893, 713846], dtype=int32), array([2009, 2008, 1961, ..., 2013, 2011, 2008], dtype=uint16), array(['17/10000217_1981-05-05_2009.png', '12/100012_1948-07-03_2008.png',\n",
       "        '65/10001965_1930-05-23_1961.png', ...,\n",
       "        '09/9998109_1972-12-27_2013.png', '00/9999400_1981-12-13_2011.png',\n",
       "        '80/999980_1954-06-11_2008.png'], dtype=object), array([1., 1., 1., ..., 1., 1., 0.]), array(['Sami Jauhojärvi', 'Marc Okrand', 'Aleksandar Matanović', ...,\n",
       "        'Michael Wiesinger', 'Johann Grugger', 'Greta Van Susteren'],\n",
       "       dtype=object), array([array([111.29109473, 111.29109473, 252.66993082, 252.66993082]),\n",
       "        array([113.52, 169.84, 366.08, 422.4 ]),\n",
       "        array([  1,   1, 634, 440], dtype=uint16), ...,\n",
       "        array([169.88839786,  74.31669472, 235.2534231 , 139.68171997]),\n",
       "        array([1, 1, 1, 1], dtype=uint8),\n",
       "        array([ 92.72633235,  62.0435549 , 230.12083087, 199.43805342])],\n",
       "       dtype=object), array([4.30096239, 4.32932883,       -inf, ..., 3.49430317,       -inf,\n",
       "        5.48691655]), array([nan, nan, nan, ..., nan, nan, nan]), array(['05-May-1981', '03-Jul-1948', '23-May-1930', ..., '27-Dec-1972',\n",
       "        '13-Dec-1981', '11-Jun-1954'], dtype=object), array([27.74611872, 59.58219178, 30.69680365, ..., 40.09703196,\n",
       "        29.1326484 , 53.64360731]), array([ 2002,  2003,  2004, ..., 62326, 62327, 62328], dtype=uint16)),\n",
       "       dtype=[('dob', 'O'), ('photo_taken', 'O'), ('full_path', 'O'), ('gender', 'O'), ('name', 'O'), ('face_location', 'O'), ('face_score', 'O'), ('second_face_score', 'O'), ('dob_str', 'O'), ('age', 'O'), ('ID', 'O')])}"
      ]
     },
     "execution_count": 3,
     "metadata": {},
     "output_type": "execute_result"
    }
   ],
   "source": [
    "#Here is the entire matlab structure data\n",
    "metaData"
   ]
  },
  {
   "cell_type": "code",
   "execution_count": 4,
   "metadata": {},
   "outputs": [],
   "source": [
    "#Get the dob field from the structure data\n",
    "dob = metaData['wiki_labeled']['dob'].item(0)"
   ]
  },
  {
   "cell_type": "code",
   "execution_count": 5,
   "metadata": {},
   "outputs": [
    {
     "data": {
      "text/plain": [
       "array([723671, 711677, 705061, ..., 720620, 723893, 713846], dtype=int32)"
      ]
     },
     "execution_count": 5,
     "metadata": {},
     "output_type": "execute_result"
    }
   ],
   "source": [
    "#See how it looks\n",
    "dob"
   ]
  },
  {
   "cell_type": "code",
   "execution_count": 6,
   "metadata": {},
   "outputs": [],
   "source": [
    "#It is neat, isn't it?"
   ]
  }
 ],
 "metadata": {
  "kernelspec": {
   "display_name": "Python 3",
   "language": "python",
   "name": "python3"
  },
  "language_info": {
   "codemirror_mode": {
    "name": "ipython",
    "version": 3
   },
   "file_extension": ".py",
   "mimetype": "text/x-python",
   "name": "python",
   "nbconvert_exporter": "python",
   "pygments_lexer": "ipython3",
   "version": "3.8.8"
  },
  "varInspector": {
   "cols": {
    "lenName": 16,
    "lenType": 16,
    "lenVar": 40
   },
   "kernels_config": {
    "python": {
     "delete_cmd_postfix": "",
     "delete_cmd_prefix": "del ",
     "library": "var_list.py",
     "varRefreshCmd": "print(var_dic_list())"
    },
    "r": {
     "delete_cmd_postfix": ") ",
     "delete_cmd_prefix": "rm(",
     "library": "var_list.r",
     "varRefreshCmd": "cat(var_dic_list()) "
    }
   },
   "types_to_exclude": [
    "module",
    "function",
    "builtin_function_or_method",
    "instance",
    "_Feature"
   ],
   "window_display": false
  }
 },
 "nbformat": 4,
 "nbformat_minor": 2
}
